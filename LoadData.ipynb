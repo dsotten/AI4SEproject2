{
 "cells": [
  {
   "cell_type": "markdown",
   "metadata": {},
   "source": [
    "# Load Dataset "
   ]
  },
  {
   "cell_type": "code",
   "execution_count": 1,
   "metadata": {},
   "outputs": [],
   "source": [
    "import json\n",
    "import re\n",
    "\n",
    "import pandas as pd\n",
    "from pathlib import Path\n",
    "pd.set_option('max_colwidth',300)\n",
    "from pprint import pprint\n",
    "\n",
    "from sklearn.model_selection import train_test_split\n",
    "from transformers import RobertaTokenizerFast"
   ]
  },
  {
   "cell_type": "code",
   "execution_count": 2,
   "metadata": {},
   "outputs": [
    {
     "name": "stdout",
     "output_type": "stream",
     "text": [
      "Archive:  python.zip\n",
      "replace python/final/jsonl/train/python_train_9.jsonl.gz? [y]es, [n]o, [A]ll, [N]one, [r]ename: ^C\n"
     ]
    }
   ],
   "source": [
    "!unzip python.zip"
   ]
  },
  {
   "cell_type": "code",
   "execution_count": 3,
   "metadata": {},
   "outputs": [],
   "source": [
    "# decompress this gzip file\n",
    "!gzip -d python/final/jsonl/test/python_test_0.jsonl.gz"
   ]
  },
  {
   "cell_type": "markdown",
   "metadata": {},
   "source": [
    "Read in the file and display the first row.  The data is stored in [JSON Lines](http://jsonlines.org/) format."
   ]
  },
  {
   "cell_type": "code",
   "execution_count": 4,
   "metadata": {},
   "outputs": [
    {
     "data": {
      "text/plain": [
       "'{\"repo\": \"soimort/you-get\", \"path\": \"src/you_get/extractors/youtube.py\", \"func_name\": \"YouTube.get_vid_from_url\", \"original_string\": \"def get_vid_from_url(url):\\\\n        \\\\\"\\\\\"\\\\\"Extracts video ID from URL.\\\\n        \\\\\"\\\\\"\\\\\"\\\\n        return match1(url, r\\'youtu\\\\\\\\.be/([^?/]+)\\') or \\\\\\\\\\\\n          match1(url, r\\'youtube\\\\\\\\.com/embed/([^/?]+)\\') or \\\\\\\\\\\\n          match1(url, r\\'youtube\\\\\\\\.com/v/([^/?]+)\\') or \\\\\\\\\\\\n          match1(url, r\\'youtube\\\\\\\\.com/watch/([^/?]+)\\') or \\\\\\\\\\\\n          parse_query_param(url, \\'v\\') or \\\\\\\\\\\\n          parse_query_param(parse_query_param(url, \\'u\\'), \\'v\\')\", \"language\": \"python\", \"code\": \"def get_vid_from_url(url):\\\\n        \\\\\"\\\\\"\\\\\"Extracts video ID from URL.\\\\n        \\\\\"\\\\\"\\\\\"\\\\n        return match1(url, r\\'youtu\\\\\\\\.be/([^?/]+)\\') or \\\\\\\\\\\\n          match1(url, r\\'youtube\\\\\\\\.com/embed/([^/?]+)\\') or \\\\\\\\\\\\n          match1(url, r\\'youtube\\\\\\\\.com/v/([^/?]+)\\') or \\\\\\\\\\\\n          match1(url, r\\'youtube\\\\\\\\.com/watch/([^/?]+)\\') or \\\\\\\\\\\\n          parse_query_param(url, \\'v\\') or \\\\\\\\\\\\n          parse_query_param(parse_query_param(url, \\'u\\'), \\'v\\')\", \"code_tokens\": [\"def\", \"get_vid_from_url\", \"(\", \"url\", \")\", \":\", \"return\", \"match1\", \"(\", \"url\", \",\", \"r\\'youtu\\\\\\\\.be/([^?/]+)\\'\", \")\", \"or\", \"match1\", \"(\", \"url\", \",\", \"r\\'youtube\\\\\\\\.com/embed/([^/?]+)\\'\", \")\", \"or\", \"match1\", \"(\", \"url\", \",\", \"r\\'youtube\\\\\\\\.com/v/([^/?]+)\\'\", \")\", \"or\", \"match1\", \"(\", \"url\", \",\", \"r\\'youtube\\\\\\\\.com/watch/([^/?]+)\\'\", \")\", \"or\", \"parse_query_param\", \"(\", \"url\", \",\", \"\\'v\\'\", \")\", \"or\", \"parse_query_param\", \"(\", \"parse_query_param\", \"(\", \"url\", \",\", \"\\'u\\'\", \")\", \",\", \"\\'v\\'\", \")\"], \"docstring\": \"Extracts video ID from URL.\", \"docstring_tokens\": [\"Extracts\", \"video\", \"ID\", \"from\", \"URL\", \".\"], \"sha\": \"b746ac01c9f39de94cac2d56f665285b0523b974\", \"url\": \"https://github.com/soimort/you-get/blob/b746ac01c9f39de94cac2d56f665285b0523b974/src/you_get/extractors/youtube.py#L135-L143\", \"partition\": \"test\"}\\n'"
      ]
     },
     "execution_count": 4,
     "metadata": {},
     "output_type": "execute_result"
    }
   ],
   "source": [
    "with open('python/final/jsonl/test/python_test_0.jsonl', 'r') as f:\n",
    "    sample_file = f.readlines()\n",
    "sample_file[0]"
   ]
  },
  {
   "cell_type": "markdown",
   "metadata": {},
   "source": [
    "We can utilize the fact that each line in the file is valid json, and display the first row in a more human readable form:"
   ]
  },
  {
   "cell_type": "code",
   "execution_count": 5,
   "metadata": {},
   "outputs": [
    {
     "name": "stdout",
     "output_type": "stream",
     "text": [
      "{'code': 'def get_vid_from_url(url):\\n'\n",
      "         '        \"\"\"Extracts video ID from URL.\\n'\n",
      "         '        \"\"\"\\n'\n",
      "         \"        return match1(url, r'youtu\\\\.be/([^?/]+)') or \\\\\\n\"\n",
      "         \"          match1(url, r'youtube\\\\.com/embed/([^/?]+)') or \\\\\\n\"\n",
      "         \"          match1(url, r'youtube\\\\.com/v/([^/?]+)') or \\\\\\n\"\n",
      "         \"          match1(url, r'youtube\\\\.com/watch/([^/?]+)') or \\\\\\n\"\n",
      "         \"          parse_query_param(url, 'v') or \\\\\\n\"\n",
      "         \"          parse_query_param(parse_query_param(url, 'u'), 'v')\",\n",
      " 'code_tokens': ['def',\n",
      "                 'get_vid_from_url',\n",
      "                 '(',\n",
      "                 'url',\n",
      "                 ')',\n",
      "                 ':',\n",
      "                 'return',\n",
      "                 'match1',\n",
      "                 '(',\n",
      "                 'url',\n",
      "                 ',',\n",
      "                 \"r'youtu\\\\.be/([^?/]+)'\",\n",
      "                 ')',\n",
      "                 'or',\n",
      "                 'match1',\n",
      "                 '(',\n",
      "                 'url',\n",
      "                 ',',\n",
      "                 \"r'youtube\\\\.com/embed/([^/?]+)'\",\n",
      "                 ')',\n",
      "                 'or',\n",
      "                 'match1',\n",
      "                 '(',\n",
      "                 'url',\n",
      "                 ',',\n",
      "                 \"r'youtube\\\\.com/v/([^/?]+)'\",\n",
      "                 ')',\n",
      "                 'or',\n",
      "                 'match1',\n",
      "                 '(',\n",
      "                 'url',\n",
      "                 ',',\n",
      "                 \"r'youtube\\\\.com/watch/([^/?]+)'\",\n",
      "                 ')',\n",
      "                 'or',\n",
      "                 'parse_query_param',\n",
      "                 '(',\n",
      "                 'url',\n",
      "                 ',',\n",
      "                 \"'v'\",\n",
      "                 ')',\n",
      "                 'or',\n",
      "                 'parse_query_param',\n",
      "                 '(',\n",
      "                 'parse_query_param',\n",
      "                 '(',\n",
      "                 'url',\n",
      "                 ',',\n",
      "                 \"'u'\",\n",
      "                 ')',\n",
      "                 ',',\n",
      "                 \"'v'\",\n",
      "                 ')'],\n",
      " 'docstring': 'Extracts video ID from URL.',\n",
      " 'docstring_tokens': ['Extracts', 'video', 'ID', 'from', 'URL', '.'],\n",
      " 'func_name': 'YouTube.get_vid_from_url',\n",
      " 'language': 'python',\n",
      " 'original_string': 'def get_vid_from_url(url):\\n'\n",
      "                    '        \"\"\"Extracts video ID from URL.\\n'\n",
      "                    '        \"\"\"\\n'\n",
      "                    \"        return match1(url, r'youtu\\\\.be/([^?/]+)') or \\\\\\n\"\n",
      "                    \"          match1(url, r'youtube\\\\.com/embed/([^/?]+)') or \"\n",
      "                    '\\\\\\n'\n",
      "                    \"          match1(url, r'youtube\\\\.com/v/([^/?]+)') or \\\\\\n\"\n",
      "                    \"          match1(url, r'youtube\\\\.com/watch/([^/?]+)') or \"\n",
      "                    '\\\\\\n'\n",
      "                    \"          parse_query_param(url, 'v') or \\\\\\n\"\n",
      "                    \"          parse_query_param(parse_query_param(url, 'u'), \"\n",
      "                    \"'v')\",\n",
      " 'partition': 'test',\n",
      " 'path': 'src/you_get/extractors/youtube.py',\n",
      " 'repo': 'soimort/you-get',\n",
      " 'sha': 'b746ac01c9f39de94cac2d56f665285b0523b974',\n",
      " 'url': 'https://github.com/soimort/you-get/blob/b746ac01c9f39de94cac2d56f665285b0523b974/src/you_get/extractors/youtube.py#L135-L143'}\n"
     ]
    }
   ],
   "source": [
    "pprint(json.loads(sample_file[0]))"
   ]
  },
  {
   "cell_type": "markdown",
   "metadata": {},
   "source": [
    "Definitions of each of the above fields are located in the  in the README.md file in the root of this repository."
   ]
  },
  {
   "cell_type": "code",
   "execution_count": 3,
   "metadata": {
    "scrolled": false
   },
   "outputs": [],
   "source": [
    "python_files = sorted(Path('python').glob('**/*.gz'))"
   ]
  },
  {
   "cell_type": "code",
   "execution_count": 4,
   "metadata": {},
   "outputs": [
    {
     "name": "stdout",
     "output_type": "stream",
     "text": [
      "Total number of files: 15\n"
     ]
    }
   ],
   "source": [
    "print(f'Total number of files: {len(python_files):,}')"
   ]
  },
  {
   "cell_type": "markdown",
   "metadata": {},
   "source": [
    "To make analysis of this dataset easier, we can load all of the data into a pandas dataframe: "
   ]
  },
  {
   "cell_type": "code",
   "execution_count": 5,
   "metadata": {},
   "outputs": [],
   "source": [
    "columns_long_list = ['repo', 'path', 'url', 'code', \n",
    "                     'code_tokens', 'docstring', 'docstring_tokens', \n",
    "                     'language', 'partition']\n",
    "\n",
    "columns_short_list = ['code_tokens', 'docstring_tokens', \n",
    "                      'language', 'partition']\n",
    "\n",
    "def jsonl_list_to_dataframe(file_list, columns=columns_long_list):\n",
    "    \"\"\"Load a list of jsonl.gz files into a pandas DataFrame.\"\"\"\n",
    "    return pd.concat([pd.read_json(f, \n",
    "                                   orient='records', \n",
    "                                   compression='gzip',\n",
    "                                   lines=True)[columns] \n",
    "                      for f in file_list], sort=False)"
   ]
  },
  {
   "cell_type": "markdown",
   "metadata": {},
   "source": [
    "This is what the python dataset looks like:"
   ]
  },
  {
   "cell_type": "code",
   "execution_count": 6,
   "metadata": {},
   "outputs": [],
   "source": [
    "df = jsonl_list_to_dataframe(python_files)"
   ]
  },
  {
   "cell_type": "code",
   "execution_count": 7,
   "metadata": {},
   "outputs": [
    {
     "data": {
      "text/html": [
       "<div>\n",
       "<style scoped>\n",
       "    .dataframe tbody tr th:only-of-type {\n",
       "        vertical-align: middle;\n",
       "    }\n",
       "\n",
       "    .dataframe tbody tr th {\n",
       "        vertical-align: top;\n",
       "    }\n",
       "\n",
       "    .dataframe thead th {\n",
       "        text-align: right;\n",
       "    }\n",
       "</style>\n",
       "<table border=\"1\" class=\"dataframe\">\n",
       "  <thead>\n",
       "    <tr style=\"text-align: right;\">\n",
       "      <th></th>\n",
       "      <th>repo</th>\n",
       "      <th>path</th>\n",
       "      <th>url</th>\n",
       "      <th>code</th>\n",
       "      <th>code_tokens</th>\n",
       "      <th>docstring</th>\n",
       "      <th>docstring_tokens</th>\n",
       "      <th>language</th>\n",
       "      <th>partition</th>\n",
       "    </tr>\n",
       "  </thead>\n",
       "  <tbody>\n",
       "    <tr>\n",
       "      <th>0</th>\n",
       "      <td>ageitgey/face_recognition</td>\n",
       "      <td>examples/face_recognition_knn.py</td>\n",
       "      <td>https://github.com/ageitgey/face_recognition/blob/c96b010c02f15e8eeb0f71308c641179ac1f19bb/examples/face_recognition_knn.py#L46-L108</td>\n",
       "      <td>def train(train_dir, model_save_path=None, n_neighbors=None, knn_algo='ball_tree', verbose=False):\\n    \"\"\"\\n    Trains a k-nearest neighbors classifier for face recognition.\\n\\n    :param train_dir: directory that contains a sub-directory for each known person, with its name.\\n\\n     (View in s...</td>\n",
       "      <td>[def, train, (, train_dir, ,, model_save_path, =, None, ,, n_neighbors, =, None, ,, knn_algo, =, 'ball_tree', ,, verbose, =, False, ), :, X, =, [, ], y, =, [, ], # Loop through each person in the training set, for, class_dir, in, os, ., listdir, (, train_dir, ), :, if, not, os, ., path, ., isdir...</td>\n",
       "      <td>Trains a k-nearest neighbors classifier for face recognition.\\n\\n    :param train_dir: directory that contains a sub-directory for each known person, with its name.\\n\\n     (View in source code to see train_dir example tree structure)\\n\\n     Structure:\\n        &lt;train_dir&gt;/\\n        ├── &lt;person...</td>\n",
       "      <td>[Trains, a, k, -, nearest, neighbors, classifier, for, face, recognition, .]</td>\n",
       "      <td>python</td>\n",
       "      <td>train</td>\n",
       "    </tr>\n",
       "    <tr>\n",
       "      <th>1</th>\n",
       "      <td>ageitgey/face_recognition</td>\n",
       "      <td>examples/face_recognition_knn.py</td>\n",
       "      <td>https://github.com/ageitgey/face_recognition/blob/c96b010c02f15e8eeb0f71308c641179ac1f19bb/examples/face_recognition_knn.py#L111-L150</td>\n",
       "      <td>def predict(X_img_path, knn_clf=None, model_path=None, distance_threshold=0.6):\\n    \"\"\"\\n    Recognizes faces in given image using a trained KNN classifier\\n\\n    :param X_img_path: path to image to be recognized\\n    :param knn_clf: (optional) a knn classifier object. if not specified, model_s...</td>\n",
       "      <td>[def, predict, (, X_img_path, ,, knn_clf, =, None, ,, model_path, =, None, ,, distance_threshold, =, 0.6, ), :, if, not, os, ., path, ., isfile, (, X_img_path, ), or, os, ., path, ., splitext, (, X_img_path, ), [, 1, ], [, 1, :, ], not, in, ALLOWED_EXTENSIONS, :, raise, Exception, (, \"Invalid im...</td>\n",
       "      <td>Recognizes faces in given image using a trained KNN classifier\\n\\n    :param X_img_path: path to image to be recognized\\n    :param knn_clf: (optional) a knn classifier object. if not specified, model_save_path must be specified.\\n    :param model_path: (optional) path to a pickled knn classifie...</td>\n",
       "      <td>[Recognizes, faces, in, given, image, using, a, trained, KNN, classifier]</td>\n",
       "      <td>python</td>\n",
       "      <td>train</td>\n",
       "    </tr>\n",
       "    <tr>\n",
       "      <th>2</th>\n",
       "      <td>ageitgey/face_recognition</td>\n",
       "      <td>examples/face_recognition_knn.py</td>\n",
       "      <td>https://github.com/ageitgey/face_recognition/blob/c96b010c02f15e8eeb0f71308c641179ac1f19bb/examples/face_recognition_knn.py#L153-L181</td>\n",
       "      <td>def show_prediction_labels_on_image(img_path, predictions):\\n    \"\"\"\\n    Shows the face recognition results visually.\\n\\n    :param img_path: path to image to be recognized\\n    :param predictions: results of the predict function\\n    :return:\\n    \"\"\"\\n    pil_image = Image.open(img_path).conv...</td>\n",
       "      <td>[def, show_prediction_labels_on_image, (, img_path, ,, predictions, ), :, pil_image, =, Image, ., open, (, img_path, ), ., convert, (, \"RGB\", ), draw, =, ImageDraw, ., Draw, (, pil_image, ), for, name, ,, (, top, ,, right, ,, bottom, ,, left, ), in, predictions, :, # Draw a box around the face u...</td>\n",
       "      <td>Shows the face recognition results visually.\\n\\n    :param img_path: path to image to be recognized\\n    :param predictions: results of the predict function\\n    :return:</td>\n",
       "      <td>[Shows, the, face, recognition, results, visually, .]</td>\n",
       "      <td>python</td>\n",
       "      <td>train</td>\n",
       "    </tr>\n",
       "  </tbody>\n",
       "</table>\n",
       "</div>"
      ],
      "text/plain": [
       "                        repo                              path   \n",
       "0  ageitgey/face_recognition  examples/face_recognition_knn.py  \\\n",
       "1  ageitgey/face_recognition  examples/face_recognition_knn.py   \n",
       "2  ageitgey/face_recognition  examples/face_recognition_knn.py   \n",
       "\n",
       "                                                                                                                                     url   \n",
       "0   https://github.com/ageitgey/face_recognition/blob/c96b010c02f15e8eeb0f71308c641179ac1f19bb/examples/face_recognition_knn.py#L46-L108  \\\n",
       "1  https://github.com/ageitgey/face_recognition/blob/c96b010c02f15e8eeb0f71308c641179ac1f19bb/examples/face_recognition_knn.py#L111-L150   \n",
       "2  https://github.com/ageitgey/face_recognition/blob/c96b010c02f15e8eeb0f71308c641179ac1f19bb/examples/face_recognition_knn.py#L153-L181   \n",
       "\n",
       "                                                                                                                                                                                                                                                                                                          code   \n",
       "0  def train(train_dir, model_save_path=None, n_neighbors=None, knn_algo='ball_tree', verbose=False):\\n    \"\"\"\\n    Trains a k-nearest neighbors classifier for face recognition.\\n\\n    :param train_dir: directory that contains a sub-directory for each known person, with its name.\\n\\n     (View in s...  \\\n",
       "1  def predict(X_img_path, knn_clf=None, model_path=None, distance_threshold=0.6):\\n    \"\"\"\\n    Recognizes faces in given image using a trained KNN classifier\\n\\n    :param X_img_path: path to image to be recognized\\n    :param knn_clf: (optional) a knn classifier object. if not specified, model_s...   \n",
       "2  def show_prediction_labels_on_image(img_path, predictions):\\n    \"\"\"\\n    Shows the face recognition results visually.\\n\\n    :param img_path: path to image to be recognized\\n    :param predictions: results of the predict function\\n    :return:\\n    \"\"\"\\n    pil_image = Image.open(img_path).conv...   \n",
       "\n",
       "                                                                                                                                                                                                                                                                                                   code_tokens   \n",
       "0  [def, train, (, train_dir, ,, model_save_path, =, None, ,, n_neighbors, =, None, ,, knn_algo, =, 'ball_tree', ,, verbose, =, False, ), :, X, =, [, ], y, =, [, ], # Loop through each person in the training set, for, class_dir, in, os, ., listdir, (, train_dir, ), :, if, not, os, ., path, ., isdir...  \\\n",
       "1  [def, predict, (, X_img_path, ,, knn_clf, =, None, ,, model_path, =, None, ,, distance_threshold, =, 0.6, ), :, if, not, os, ., path, ., isfile, (, X_img_path, ), or, os, ., path, ., splitext, (, X_img_path, ), [, 1, ], [, 1, :, ], not, in, ALLOWED_EXTENSIONS, :, raise, Exception, (, \"Invalid im...   \n",
       "2  [def, show_prediction_labels_on_image, (, img_path, ,, predictions, ), :, pil_image, =, Image, ., open, (, img_path, ), ., convert, (, \"RGB\", ), draw, =, ImageDraw, ., Draw, (, pil_image, ), for, name, ,, (, top, ,, right, ,, bottom, ,, left, ), in, predictions, :, # Draw a box around the face u...   \n",
       "\n",
       "                                                                                                                                                                                                                                                                                                     docstring   \n",
       "0  Trains a k-nearest neighbors classifier for face recognition.\\n\\n    :param train_dir: directory that contains a sub-directory for each known person, with its name.\\n\\n     (View in source code to see train_dir example tree structure)\\n\\n     Structure:\\n        <train_dir>/\\n        ├── <person...  \\\n",
       "1  Recognizes faces in given image using a trained KNN classifier\\n\\n    :param X_img_path: path to image to be recognized\\n    :param knn_clf: (optional) a knn classifier object. if not specified, model_save_path must be specified.\\n    :param model_path: (optional) path to a pickled knn classifie...   \n",
       "2                                                                                                                                   Shows the face recognition results visually.\\n\\n    :param img_path: path to image to be recognized\\n    :param predictions: results of the predict function\\n    :return:   \n",
       "\n",
       "                                                               docstring_tokens   \n",
       "0  [Trains, a, k, -, nearest, neighbors, classifier, for, face, recognition, .]  \\\n",
       "1     [Recognizes, faces, in, given, image, using, a, trained, KNN, classifier]   \n",
       "2                         [Shows, the, face, recognition, results, visually, .]   \n",
       "\n",
       "  language partition  \n",
       "0   python     train  \n",
       "1   python     train  \n",
       "2   python     train  "
      ]
     },
     "execution_count": 7,
     "metadata": {},
     "output_type": "execute_result"
    }
   ],
   "source": [
    "df.head(3)"
   ]
  },
  {
   "cell_type": "code",
   "execution_count": 8,
   "metadata": {},
   "outputs": [
    {
     "data": {
      "text/plain": [
       "language\n",
       "python    435285\n",
       "Name: count, dtype: int64"
      ]
     },
     "execution_count": 8,
     "metadata": {},
     "output_type": "execute_result"
    }
   ],
   "source": [
    "df.language.value_counts()"
   ]
  },
  {
   "cell_type": "code",
   "execution_count": 9,
   "metadata": {},
   "outputs": [],
   "source": [
    "data = df['code']"
   ]
  },
  {
   "cell_type": "code",
   "execution_count": 10,
   "metadata": {},
   "outputs": [
    {
     "data": {
      "text/plain": [
       "435285"
      ]
     },
     "execution_count": 10,
     "metadata": {},
     "output_type": "execute_result"
    }
   ],
   "source": [
    "len(data)"
   ]
  },
  {
   "cell_type": "code",
   "execution_count": 11,
   "metadata": {},
   "outputs": [],
   "source": [
    "data.to_csv('full.csv', index=False)"
   ]
  },
  {
   "cell_type": "code",
   "execution_count": 13,
   "metadata": {},
   "outputs": [],
   "source": [
    "# extracted = pd.read_csv(\"tokenized_functions.csv\")\n",
    "# extracted"
   ]
  },
  {
   "cell_type": "code",
   "execution_count": 14,
   "metadata": {},
   "outputs": [
    {
     "data": {
      "text/html": [
       "<div>\n",
       "<style scoped>\n",
       "    .dataframe tbody tr th:only-of-type {\n",
       "        vertical-align: middle;\n",
       "    }\n",
       "\n",
       "    .dataframe tbody tr th {\n",
       "        vertical-align: top;\n",
       "    }\n",
       "\n",
       "    .dataframe thead th {\n",
       "        text-align: right;\n",
       "    }\n",
       "</style>\n",
       "<table border=\"1\" class=\"dataframe\">\n",
       "  <thead>\n",
       "    <tr style=\"text-align: right;\">\n",
       "      <th></th>\n",
       "      <th>original_function</th>\n",
       "      <th>tokenized_function</th>\n",
       "    </tr>\n",
       "  </thead>\n",
       "  <tbody>\n",
       "    <tr>\n",
       "      <th>0</th>\n",
       "      <td>def train(train_dir, model_save_path=None, n_neighbors=None, knn_algo='ball_tree', verbose=False):\\n    \"\"\"\\n    Trains a k-nearest neighbors classifier for face recognition.\\n\\n    :param train_dir: directory that contains a sub-directory for each known person, with its name.\\n\\n     (View in s...</td>\n",
       "      <td>[1, 822, 7945, 29898, 14968, 29918, 3972, 29892, 1904, 29918, 7620, 29918, 2084, 29922, 8516, 29892, 302, 29918, 484, 1141, 29890, 943, 29922, 8516, 29892, 889, 29876, 29918, 284, 1484, 2433, 2135, 29918, 8336, 742, 26952, 29922, 8824, 1125, 13, 1678, 9995, 13, 1678, 3201, 1144, 263, 413, 29899,...</td>\n",
       "    </tr>\n",
       "    <tr>\n",
       "      <th>1</th>\n",
       "      <td>def predict(X_img_path, knn_clf=None, model_path=None, distance_threshold=0.6):\\n    \"\"\"\\n    Recognizes faces in given image using a trained KNN classifier\\n\\n    :param X_img_path: path to image to be recognized\\n    :param knn_clf: (optional) a knn classifier object. if not specified, model_s...</td>\n",
       "      <td>[1, 822, 8500, 29898, 29990, 29918, 2492, 29918, 2084, 29892, 889, 29876, 29918, 695, 29888, 29922, 8516, 29892, 1904, 29918, 2084, 29922, 8516, 29892, 5418, 29918, 386, 12268, 29922, 29900, 29889, 29953, 1125, 13, 1678, 9995, 13, 1678, 3599, 3811, 7093, 17240, 297, 2183, 1967, 773, 263, 16370, ...</td>\n",
       "    </tr>\n",
       "    <tr>\n",
       "      <th>2</th>\n",
       "      <td>def face_distance(face_encodings, face_to_compare):\\n    \"\"\"\\n    Given a list of face encodings, compare them to a known face encoding and get a euclidean distance\\n    for each comparison face. The distance tells you how similar the faces are.\\n\\n    :param faces: List of face encodings to com...</td>\n",
       "      <td>[1, 822, 3700, 29918, 19244, 29898, 2161, 29918, 3977, 397, 886, 29892, 3700, 29918, 517, 29918, 18307, 1125, 13, 1678, 9995, 13, 1678, 11221, 263, 1051, 310, 3700, 2094, 397, 886, 29892, 7252, 963, 304, 263, 2998, 3700, 8025, 322, 679, 263, 321, 27511, 5418, 13, 1678, 363, 1269, 10230, 3700, 29...</td>\n",
       "    </tr>\n",
       "    <tr>\n",
       "      <th>3</th>\n",
       "      <td>def load_image_file(file, mode='RGB'):\\n    \"\"\"\\n    Loads an image file (.jpg, .png, etc) into a numpy array\\n\\n    :param file: image file name or file object to load\\n    :param mode: format to convert the image to. Only 'RGB' (8-bit RGB, 3 channels) and 'L' (black and white) are supported.\\n...</td>\n",
       "      <td>[1, 822, 2254, 29918, 3027, 29918, 1445, 29898, 1445, 29892, 4464, 2433, 28212, 29374, 13, 1678, 9995, 13, 1678, 4309, 7925, 385, 1967, 934, 14544, 6173, 29892, 869, 2732, 29892, 2992, 29897, 964, 263, 12655, 1409, 13, 13, 1678, 584, 3207, 934, 29901, 1967, 934, 1024, 470, 934, 1203, 304, 2254, ...</td>\n",
       "    </tr>\n",
       "    <tr>\n",
       "      <th>4</th>\n",
       "      <td>def _raw_face_locations(img, number_of_times_to_upsample=1, model='hog'):\\n    \"\"\"\\n    Returns an array of bounding boxes of human faces in a image\\n\\n    :param img: An image (as a numpy array)\\n    :param number_of_times_to_upsample: How many times to upsample the image looking for faces. Hig...</td>\n",
       "      <td>[1, 822, 903, 1610, 29918, 2161, 29918, 2029, 800, 29898, 2492, 29892, 1353, 29918, 974, 29918, 3706, 29918, 517, 29918, 14340, 981, 29922, 29896, 29892, 1904, 2433, 29882, 468, 29374, 13, 1678, 9995, 13, 1678, 16969, 385, 1409, 310, 3216, 292, 16273, 310, 5199, 17240, 297, 263, 1967, 13, 13, 16...</td>\n",
       "    </tr>\n",
       "    <tr>\n",
       "      <th>...</th>\n",
       "      <td>...</td>\n",
       "      <td>...</td>\n",
       "    </tr>\n",
       "    <tr>\n",
       "      <th>282968</th>\n",
       "      <td>def apply_defaults(self, commands):\\n    \"\"\" apply default settings to commands\\n            not static, shadow \"self\" in eval\\n        \"\"\"\\n    for command in commands:\\n        if 'action' in command and '()' in command['action']:\\n            command['action'] = eval('self.{}'.format(command[...</td>\n",
       "      <td>[1, 822, 3394, 29918, 4381, 29879, 29898, 1311, 29892, 8260, 1125, 13, 1678, 9995, 3394, 2322, 6055, 304, 8260, 13, 9651, 451, 2294, 29892, 15504, 376, 1311, 29908, 297, 19745, 13, 4706, 9995, 13, 1678, 363, 1899, 297, 8260, 29901, 13, 4706, 565, 525, 2467, 29915, 297, 1899, 322, 525, 580, 29915...</td>\n",
       "    </tr>\n",
       "    <tr>\n",
       "      <th>282969</th>\n",
       "      <td>def create_commands(self, commands, parser):\\n    \"\"\" add commands to parser \"\"\"\\n    self.apply_defaults(commands)\\n\\n    def create_single_command(command):\\n        keys = command['keys']\\n        del command['keys']\\n        kwargs = {}\\n        for item in command:\\n            kwargs[item]...</td>\n",
       "      <td>[1, 822, 1653, 29918, 26381, 29898, 1311, 29892, 8260, 29892, 13812, 1125, 13, 1678, 9995, 788, 8260, 304, 13812, 9995, 13, 1678, 1583, 29889, 7302, 29918, 4381, 29879, 29898, 26381, 29897, 13, 13, 1678, 822, 1653, 29918, 14369, 29918, 6519, 29898, 6519, 1125, 13, 4706, 6611, 353, 1899, 1839, 81...</td>\n",
       "    </tr>\n",
       "    <tr>\n",
       "      <th>282970</th>\n",
       "      <td>def check_path_action(self):\\n    \"\"\" custom command line action to check file exist \"\"\"\\n\\n    class CheckPathAction(argparse.Action):\\n\\n        def __call__(self, parser, args, value, option_string=None):\\n            if type(value) is list:\\n                value = value[0]\\n            user...</td>\n",
       "      <td>[1, 822, 1423, 29918, 2084, 29918, 2467, 29898, 1311, 1125, 13, 1678, 9995, 2888, 1899, 1196, 3158, 304, 1423, 934, 1863, 9995, 13, 13, 1678, 770, 5399, 2605, 4276, 29898, 1191, 5510, 29889, 4276, 1125, 13, 13, 4706, 822, 4770, 4804, 12035, 1311, 29892, 13812, 29892, 6389, 29892, 995, 29892, 298...</td>\n",
       "    </tr>\n",
       "    <tr>\n",
       "      <th>282971</th>\n",
       "      <td>def __call__(self, parser, args, value, option_string=None):\\n    if type(value) is list:\\n        value = value[0]\\n    user_value = value\\n    if option_string == 'None':\\n        if not os.path.isdir(value):\\n            _current_user = os.path.expanduser('~')\\n            if not value.starts...</td>\n",
       "      <td>[1, 822, 4770, 4804, 12035, 1311, 29892, 13812, 29892, 6389, 29892, 995, 29892, 2984, 29918, 1807, 29922, 8516, 1125, 13, 1678, 565, 1134, 29898, 1767, 29897, 338, 1051, 29901, 13, 4706, 995, 353, 995, 29961, 29900, 29962, 13, 1678, 1404, 29918, 1767, 353, 995, 13, 1678, 565, 2984, 29918, 1807, ...</td>\n",
       "    </tr>\n",
       "    <tr>\n",
       "      <th>282972</th>\n",
       "      <td>def _InternalUnpackAny(msg):\\n    \"\"\"Unpacks Any message and returns the unpacked message.\\n\\n  This internal method is differnt from public Any Unpack method which takes\\n  the target message as argument. _InternalUnpackAny method does not have\\n  target message type and need to find the messag...</td>\n",
       "      <td>[1, 822, 903, 16491, 2525, 4058, 10773, 29898, 7645, 1125, 13, 1678, 9995, 2525, 4058, 29879, 3139, 2643, 322, 3639, 278, 443, 4058, 287, 2643, 29889, 13, 13, 29871, 910, 7463, 1158, 338, 1163, 593, 515, 970, 3139, 853, 4058, 1158, 607, 4893, 13, 29871, 278, 3646, 2643, 408, 2980, 29889, 903, 16...</td>\n",
       "    </tr>\n",
       "  </tbody>\n",
       "</table>\n",
       "<p>282973 rows × 2 columns</p>\n",
       "</div>"
      ],
      "text/plain": [
       "                                                                                                                                                                                                                                                                                                  original_function   \n",
       "0       def train(train_dir, model_save_path=None, n_neighbors=None, knn_algo='ball_tree', verbose=False):\\n    \"\"\"\\n    Trains a k-nearest neighbors classifier for face recognition.\\n\\n    :param train_dir: directory that contains a sub-directory for each known person, with its name.\\n\\n     (View in s...  \\\n",
       "1       def predict(X_img_path, knn_clf=None, model_path=None, distance_threshold=0.6):\\n    \"\"\"\\n    Recognizes faces in given image using a trained KNN classifier\\n\\n    :param X_img_path: path to image to be recognized\\n    :param knn_clf: (optional) a knn classifier object. if not specified, model_s...   \n",
       "2       def face_distance(face_encodings, face_to_compare):\\n    \"\"\"\\n    Given a list of face encodings, compare them to a known face encoding and get a euclidean distance\\n    for each comparison face. The distance tells you how similar the faces are.\\n\\n    :param faces: List of face encodings to com...   \n",
       "3       def load_image_file(file, mode='RGB'):\\n    \"\"\"\\n    Loads an image file (.jpg, .png, etc) into a numpy array\\n\\n    :param file: image file name or file object to load\\n    :param mode: format to convert the image to. Only 'RGB' (8-bit RGB, 3 channels) and 'L' (black and white) are supported.\\n...   \n",
       "4       def _raw_face_locations(img, number_of_times_to_upsample=1, model='hog'):\\n    \"\"\"\\n    Returns an array of bounding boxes of human faces in a image\\n\\n    :param img: An image (as a numpy array)\\n    :param number_of_times_to_upsample: How many times to upsample the image looking for faces. Hig...   \n",
       "...                                                                                                                                                                                                                                                                                                             ...   \n",
       "282968  def apply_defaults(self, commands):\\n    \"\"\" apply default settings to commands\\n            not static, shadow \"self\" in eval\\n        \"\"\"\\n    for command in commands:\\n        if 'action' in command and '()' in command['action']:\\n            command['action'] = eval('self.{}'.format(command[...   \n",
       "282969  def create_commands(self, commands, parser):\\n    \"\"\" add commands to parser \"\"\"\\n    self.apply_defaults(commands)\\n\\n    def create_single_command(command):\\n        keys = command['keys']\\n        del command['keys']\\n        kwargs = {}\\n        for item in command:\\n            kwargs[item]...   \n",
       "282970  def check_path_action(self):\\n    \"\"\" custom command line action to check file exist \"\"\"\\n\\n    class CheckPathAction(argparse.Action):\\n\\n        def __call__(self, parser, args, value, option_string=None):\\n            if type(value) is list:\\n                value = value[0]\\n            user...   \n",
       "282971  def __call__(self, parser, args, value, option_string=None):\\n    if type(value) is list:\\n        value = value[0]\\n    user_value = value\\n    if option_string == 'None':\\n        if not os.path.isdir(value):\\n            _current_user = os.path.expanduser('~')\\n            if not value.starts...   \n",
       "282972  def _InternalUnpackAny(msg):\\n    \"\"\"Unpacks Any message and returns the unpacked message.\\n\\n  This internal method is differnt from public Any Unpack method which takes\\n  the target message as argument. _InternalUnpackAny method does not have\\n  target message type and need to find the messag...   \n",
       "\n",
       "                                                                                                                                                                                                                                                                                                 tokenized_function  \n",
       "0       [1, 822, 7945, 29898, 14968, 29918, 3972, 29892, 1904, 29918, 7620, 29918, 2084, 29922, 8516, 29892, 302, 29918, 484, 1141, 29890, 943, 29922, 8516, 29892, 889, 29876, 29918, 284, 1484, 2433, 2135, 29918, 8336, 742, 26952, 29922, 8824, 1125, 13, 1678, 9995, 13, 1678, 3201, 1144, 263, 413, 29899,...  \n",
       "1       [1, 822, 8500, 29898, 29990, 29918, 2492, 29918, 2084, 29892, 889, 29876, 29918, 695, 29888, 29922, 8516, 29892, 1904, 29918, 2084, 29922, 8516, 29892, 5418, 29918, 386, 12268, 29922, 29900, 29889, 29953, 1125, 13, 1678, 9995, 13, 1678, 3599, 3811, 7093, 17240, 297, 2183, 1967, 773, 263, 16370, ...  \n",
       "2       [1, 822, 3700, 29918, 19244, 29898, 2161, 29918, 3977, 397, 886, 29892, 3700, 29918, 517, 29918, 18307, 1125, 13, 1678, 9995, 13, 1678, 11221, 263, 1051, 310, 3700, 2094, 397, 886, 29892, 7252, 963, 304, 263, 2998, 3700, 8025, 322, 679, 263, 321, 27511, 5418, 13, 1678, 363, 1269, 10230, 3700, 29...  \n",
       "3       [1, 822, 2254, 29918, 3027, 29918, 1445, 29898, 1445, 29892, 4464, 2433, 28212, 29374, 13, 1678, 9995, 13, 1678, 4309, 7925, 385, 1967, 934, 14544, 6173, 29892, 869, 2732, 29892, 2992, 29897, 964, 263, 12655, 1409, 13, 13, 1678, 584, 3207, 934, 29901, 1967, 934, 1024, 470, 934, 1203, 304, 2254, ...  \n",
       "4       [1, 822, 903, 1610, 29918, 2161, 29918, 2029, 800, 29898, 2492, 29892, 1353, 29918, 974, 29918, 3706, 29918, 517, 29918, 14340, 981, 29922, 29896, 29892, 1904, 2433, 29882, 468, 29374, 13, 1678, 9995, 13, 1678, 16969, 385, 1409, 310, 3216, 292, 16273, 310, 5199, 17240, 297, 263, 1967, 13, 13, 16...  \n",
       "...                                                                                                                                                                                                                                                                                                             ...  \n",
       "282968  [1, 822, 3394, 29918, 4381, 29879, 29898, 1311, 29892, 8260, 1125, 13, 1678, 9995, 3394, 2322, 6055, 304, 8260, 13, 9651, 451, 2294, 29892, 15504, 376, 1311, 29908, 297, 19745, 13, 4706, 9995, 13, 1678, 363, 1899, 297, 8260, 29901, 13, 4706, 565, 525, 2467, 29915, 297, 1899, 322, 525, 580, 29915...  \n",
       "282969  [1, 822, 1653, 29918, 26381, 29898, 1311, 29892, 8260, 29892, 13812, 1125, 13, 1678, 9995, 788, 8260, 304, 13812, 9995, 13, 1678, 1583, 29889, 7302, 29918, 4381, 29879, 29898, 26381, 29897, 13, 13, 1678, 822, 1653, 29918, 14369, 29918, 6519, 29898, 6519, 1125, 13, 4706, 6611, 353, 1899, 1839, 81...  \n",
       "282970  [1, 822, 1423, 29918, 2084, 29918, 2467, 29898, 1311, 1125, 13, 1678, 9995, 2888, 1899, 1196, 3158, 304, 1423, 934, 1863, 9995, 13, 13, 1678, 770, 5399, 2605, 4276, 29898, 1191, 5510, 29889, 4276, 1125, 13, 13, 4706, 822, 4770, 4804, 12035, 1311, 29892, 13812, 29892, 6389, 29892, 995, 29892, 298...  \n",
       "282971  [1, 822, 4770, 4804, 12035, 1311, 29892, 13812, 29892, 6389, 29892, 995, 29892, 2984, 29918, 1807, 29922, 8516, 1125, 13, 1678, 565, 1134, 29898, 1767, 29897, 338, 1051, 29901, 13, 4706, 995, 353, 995, 29961, 29900, 29962, 13, 1678, 1404, 29918, 1767, 353, 995, 13, 1678, 565, 2984, 29918, 1807, ...  \n",
       "282972  [1, 822, 903, 16491, 2525, 4058, 10773, 29898, 7645, 1125, 13, 1678, 9995, 2525, 4058, 29879, 3139, 2643, 322, 3639, 278, 443, 4058, 287, 2643, 29889, 13, 13, 29871, 910, 7463, 1158, 338, 1163, 593, 515, 970, 3139, 853, 4058, 1158, 607, 4893, 13, 29871, 278, 3646, 2643, 408, 2980, 29889, 903, 16...  \n",
       "\n",
       "[282973 rows x 2 columns]"
      ]
     },
     "execution_count": 14,
     "metadata": {},
     "output_type": "execute_result"
    }
   ],
   "source": []
  },
  {
   "cell_type": "code",
   "execution_count": null,
   "metadata": {},
   "outputs": [],
   "source": []
  }
 ],
 "metadata": {
  "kernelspec": {
   "display_name": "Python 3 (ipykernel)",
   "language": "python",
   "name": "python3"
  },
  "language_info": {
   "codemirror_mode": {
    "name": "ipython",
    "version": 3
   },
   "file_extension": ".py",
   "mimetype": "text/x-python",
   "name": "python",
   "nbconvert_exporter": "python",
   "pygments_lexer": "ipython3",
   "version": "3.10.10"
  }
 },
 "nbformat": 4,
 "nbformat_minor": 2
}
